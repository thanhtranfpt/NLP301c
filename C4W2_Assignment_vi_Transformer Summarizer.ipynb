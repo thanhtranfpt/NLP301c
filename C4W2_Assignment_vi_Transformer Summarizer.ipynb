{
 "cells": [
  {
   "cell_type": "markdown",
   "id": "05014ac7",
   "metadata": {
    "colab_type": "text",
    "id": "7yuytuIllsv1"
   },
   "source": [
    "\n",
    "# Bài 2: Tóm tắt máy biến áp\n",
    "\n",
    "Chào mừng bạn đến với bài tập thứ hai của khóa học 4. Trong bài tập này, bạn sẽ khám phá cách tóm tắt bằng mô hình máy biến áp. Có, bạn sẽ triển khai bộ giải mã máy biến áp từ đầu, nhưng chúng tôi sẽ hướng dẫn bạn dần dần về nó. Có rất nhiều gợi ý trong cuốn sổ này nên bạn có thể thoải mái sử dụng chúng khi cần thiết. Trên thực tế, đến cuối cuốn sổ này, bạn sẽ triển khai bộ biến áp đầy đủ (cả bộ mã hóa và bộ giải mã) nhưng bạn sẽ chỉ được chấm điểm khi triển khai bộ giải mã vì bộ mã hóa được cung cấp cho bạn.\n"
   ]
  },
  {
   "cell_type": "markdown",
   "id": "d00e9709",
   "metadata": {
    "colab_type": "text",
    "id": "4-3lxSnXRWPx"
   },
   "source": [
    "## Mục lục\n",
    "\n",
    "- [Introduction](#0)\n",
    "- [1 - Importing the Dataset](#1)\n",
    "- [2 - Preprocess the Data](#2)\n",
    "- [3 - Positional Encoding](#3)\n",
    "- [4 - Masking](#4)\n",
    "- [5 - Self-attention](#5)\n",
    "- [Exercise 1 - scaled_dot_product_attention](#ex-1)\n",
    "- [6 - Encoder](#6)\n",
    "- [6.1 - Encoder Layer](#6-1)\n",
    "- [6.2 - Full Encoder](#6-2)\n",
    "- [7 - Decoder](#7)\n",
    "- [7.1 - Decoder Layer](#7-1)\n",
    "- [Exercise 2 - DecoderLayer](#ex-2)\n",
    "- [7.2 - Full Decoder](#7-2)\n",
    "- [Exercise 3 - Decoder](#ex-3)\n",
    "- [8 - Transformer](#8)\n",
    "- [Exercise 4 - Transformer](#ex-4)\n",
    "- [9 - Initialize the Model](#9)\n",
    "- [10 - Prepare for Training the Model](#10)\n",
    "- [11 - Summarization](#11)\n",
    "- [Exercise 5 - next_word](#ex-5)\n",
    "- [12 - Train the Model](#12)\n",
    "- [13 - Summarize some sentences!](#13)\n"
   ]
  },
  {
   "cell_type": "markdown",
   "id": "ee0da363",
   "metadata": {
    "colab_type": "text",
    "id": "H4NlfEQhRWPy"
   },
   "source": [
    "<a name='0'></a>\n",
    "## Giới thiệu\n",
    "\n",
    "Tóm tắt là một nhiệm vụ quan trọng trong xử lý ngôn ngữ tự nhiên và có thể hữu ích cho doanh nghiệp tiêu dùng. Ví dụ: bot có thể được sử dụng để thu thập các bài viết, tóm tắt chúng và sau đó bạn có thể sử dụng phân tích tâm lý để xác định tâm lý về một số cổ phiếu nhất định. Hôm nay ai lại muốn đọc một bài báo hay một email dài khi bạn có thể xây dựng một máy biến áp để tóm tắt văn bản cho mình? Bắt đầu nào. Khi hoàn thành nhiệm vụ này, bạn sẽ học được:\n",
    "\n",
    "- Sử dụng các chức năng tích hợp để xử lý trước dữ liệu của bạn\n",
    "- Triển khai DotProductAttention\n",
    "- Thực hiện chú ý nhân quả\n",
    "- Hiểu cách thức hoạt động của sự chú ý\n",
    "- Xây dựng mô hình máy biến áp\n",
    "- Đánh giá mô hình của bạn\n",
    "- Tóm tắt một bài viết\n",
    "\n",
    "Như bạn có thể thấy, mô hình này hơi khác so với những mô hình bạn đã triển khai. Điều này chủ yếu dựa vào sự chú ý và không dựa vào trình tự, cho phép tính toán song song."
   ]
  },
  {
   "cell_type": "code",
   "execution_count": 1,
   "id": "7b49d856",
   "metadata": {
    "colab": {
     "base_uri": "https://localhost:8080/",
     "height": 34
    },
    "colab_type": "code",
    "deletable": false,
    "editable": false,
    "id": "CChWzW-rEHVb",
    "outputId": "a0b3e98b-7fc6-492d-c8ad-3a263b54f670",
    "tags": [
     "graded"
    ]
   },
   "outputs": [],
   "source": [
    "import os\n",
    "os.environ['TF_CPP_MIN_LOG_LEVEL'] = '3'\n",
    "\n",
    "import numpy as np\n",
    "import pandas as pd\n",
    "import tensorflow as tf\n",
    "import matplotlib.pyplot as plt\n",
    "import time\n",
    "import utils\n",
    "\n",
    "import textwrap\n",
    "wrapper = textwrap.TextWrapper(width=70)\n",
    "\n",
    "tf.keras.utils.set_random_seed(10)"
   ]
  },
  {
   "cell_type": "code",
   "execution_count": 2,
   "id": "cfe093e6",
   "metadata": {
    "deletable": false,
    "editable": false
   },
   "outputs": [],
   "source": [
    "import w2_unittest"
   ]
  },
  {
   "cell_type": "markdown",
   "id": "d56fc570",
   "metadata": {
    "colab_type": "text",
    "id": "kEL2rvaHRWP4"
   },
   "source": [
    "<a name='1'></a>\n",
    "##1 - Nhập Dataset\n",
    "Bạn có tập dữ liệu được lưu trong tệp .json mà bạn có thể dễ dàng mở bằng gấu trúc. Chức năng tải đã được xử lý trong `utils.py`."
   ]
  },
  {
   "cell_type": "code",
   "execution_count": 3,
   "id": "074bcce3",
   "metadata": {
    "deletable": false,
    "editable": false,
    "tags": [
     "graded"
    ]
   },
   "outputs": [
    {
     "name": "stdout",
     "output_type": "stream",
     "text": [
      "Dialogue:\n",
      "Lucas: Hey! How was your day?\r\n",
      "Demi: Hey there! \r\n",
      "Demi: It was pretty fine, actually, thank you!\r\n",
      "Demi: I just got promoted! :D\r\n",
      "Lucas: Whoa! Great news!\r\n",
      "Lucas: Congratulations!\r\n",
      "Lucas: Such a success has to be celebrated.\r\n",
      "Demi: I agree! :D\r\n",
      "Demi: Tonight at Death & Co.?\r\n",
      "Lucas: Sure!\r\n",
      "Lucas: See you there at 10pm?\r\n",
      "Demi: Yeah! See you there! :D\n",
      "\n",
      "Summary:\n",
      "Demi got promoted. She will celebrate that with Lucas at Death & Co at 10 pm.\n"
     ]
    }
   ],
   "source": [
    "data_dir = \"data/corpus\"\n",
    "\n",
    "train_data, test_data = utils.get_train_test_data(data_dir)\n",
    "\n",
    "# Take one example from the dataset and print it\n",
    "example_summary, example_dialogue = train_data.iloc[10]\n",
    "print(f\"Dialogue:\\n{example_dialogue}\")\n",
    "print(f\"\\nSummary:\\n{example_summary}\")"
   ]
  },
  {
   "cell_type": "markdown",
   "id": "04210324",
   "metadata": {},
   "source": [
    "<a name='2'></a>\n",
    "##2 - Xử lý trước dữ liệu\n",
    "\n",
    "Trước tiên, bạn sẽ thực hiện một số bước tiền xử lý dữ liệu và chia nó thành đầu vào và đầu ra. Tại đây, bạn cũng xóa một số ký tự dành riêng cho tập dữ liệu này và thêm mã thông báo `[EOS]` (end of sentence) vào cuối, giống như đã được thảo luận trong các video bài giảng. Bạn cũng sẽ thêm mã thông báo `[EOS]` (end of sentence) vào đầu câu."
   ]
  },
  {
   "cell_type": "code",
   "execution_count": 4,
   "id": "9ba397a0",
   "metadata": {
    "deletable": false,
    "editable": false,
    "tags": [
     "graded"
    ]
   },
   "outputs": [],
   "source": [
    "document, summary = utils.preprocess(train_data)\n",
    "document_test, summary_test = utils.preprocess(test_data)"
   ]
  },
  {
   "cell_type": "markdown",
   "id": "0fe70280",
   "metadata": {},
   "source": [
    "Bây giờ hãy thực hiện quá trình tiền xử lý tiêu chuẩn với thư viện tensorflow. Bạn sẽ cần sửa đổi các bộ lọc vì bạn không muốn xóa mã thông báo `[EOS]`.\n",
    "\n",
    "Sau đó tạo từ vựng bằng cách kết hợp dữ liệu trong tài liệu và phần tóm tắt rồi sử dụng `.fit_on_texts()`:"
   ]
  },
  {
   "cell_type": "code",
   "execution_count": 5,
   "id": "5dfab3c8",
   "metadata": {
    "deletable": false,
    "editable": false,
    "tags": [
     "graded"
    ]
   },
   "outputs": [
    {
     "name": "stdout",
     "output_type": "stream",
     "text": [
      "Size of vocabulary: 34250\n"
     ]
    }
   ],
   "source": [
    "# The [ and ] from default tokens cannot be removed, because they mark the SOS and EOS token.\n",
    "filters = '!\"#$%&()*+,-./:;<=>?@\\\\^_`{|}~\\t\\n'\n",
    "oov_token = '[UNK]'\n",
    "\n",
    "tokenizer = tf.keras.preprocessing.text.Tokenizer(filters=filters, oov_token=oov_token, lower=False)\n",
    "\n",
    "documents_and_summary = pd.concat([document, summary], ignore_index=True)\n",
    "\n",
    "tokenizer.fit_on_texts(documents_and_summary)\n",
    "\n",
    "inputs = tokenizer.texts_to_sequences(document)\n",
    "targets = tokenizer.texts_to_sequences(summary)\n",
    "\n",
    "vocab_size = len(tokenizer.word_index) + 1\n",
    "\n",
    "print(f'Size of vocabulary: {vocab_size}')"
   ]
  },
  {
   "cell_type": "markdown",
   "id": "7341b3f5",
   "metadata": {},
   "source": [
    "Bây giờ bạn có thể đệm các chuỗi được mã hóa cho dữ liệu huấn luyện.\n",
    "\n",
    "Vì mục đích của cuốn sổ tay này, bạn cần giới hạn độ dài của các trình tự, vì máy biến áp thực sự là những mô hình lớn và không được đào tạo trong những môi trường nhỏ như vậy."
   ]
  },
  {
   "cell_type": "code",
   "execution_count": 6,
   "id": "c5846dd5",
   "metadata": {
    "deletable": false,
    "editable": false,
    "tags": [
     "graded"
    ]
   },
   "outputs": [],
   "source": [
    "# Limit the size of the input and output data for being able to run it in this environment.\n",
    "encoder_maxlen = 150\n",
    "decoder_maxlen = 50\n",
    "\n",
    "# Pad the sequences.\n",
    "inputs = tf.keras.preprocessing.sequence.pad_sequences(inputs, maxlen=encoder_maxlen, padding='post', truncating='post')\n",
    "targets = tf.keras.preprocessing.sequence.pad_sequences(targets, maxlen=decoder_maxlen, padding='post', truncating='post')\n",
    "\n",
    "inputs = tf.cast(inputs, dtype=tf.int32)\n",
    "targets = tf.cast(targets, dtype=tf.int32)\n",
    "\n",
    "# Create the final training dataset.\n",
    "BUFFER_SIZE = 10000\n",
    "BATCH_SIZE = 64\n",
    "\n",
    "dataset = tf.data.Dataset.from_tensor_slices((inputs, targets)).shuffle(BUFFER_SIZE).batch(BATCH_SIZE)"
   ]
  },
  {
   "cell_type": "markdown",
   "id": "58b25fb2",
   "metadata": {},
   "source": [
    "<a name='3'></a>\n",
    "## 3 - Mã hóa vị trí\n",
    "\n",
    "Theo trình tự các nhiệm vụ, thứ tự tương đối của dữ liệu của bạn là cực kỳ quan trọng đối với ý nghĩa của nó. Khi bạn đào tạo các mạng thần kinh tuần tự như RNN, bạn đã đưa đầu vào của mình vào mạng theo thứ tự. Thông tin về thứ tự dữ liệu của bạn đã được tự động đưa vào mô hình của bạn. Tuy nhiên, khi bạn huấn luyện mạng Transformer bằng cách sử dụng sự chú ý của nhiều đầu, bạn sẽ đưa tất cả dữ liệu của mình vào mô hình cùng một lúc. Mặc dù điều này làm giảm đáng kể thời gian đào tạo nhưng không có thông tin nào về thứ tự dữ liệu của bạn. Đây là nơi mã hóa vị trí hữu ích.\n",
    "\n",
    "Bạn đã học cách triển khai mã hóa vị trí ở một trong các phòng thí nghiệm của tuần này. Tại đây, bạn sẽ sử dụng hàm `positional_encoding` để tạo mã hóa vị trí cho máy biến áp của mình. Chức năng này đã được triển khai cho bạn."
   ]
  },
  {
   "cell_type": "code",
   "execution_count": 7,
   "id": "0e65672c",
   "metadata": {
    "deletable": false,
    "editable": false,
    "tags": [
     "graded"
    ]
   },
   "outputs": [],
   "source": [
    "def positional_encoding(positions, d_model):\n",
    "    \"\"\"\n",
    "    Precomputes a matrix with all the positional encodings \n",
    "    \n",
    "    Arguments:\n",
    "        positions (int): Maximum number of positions to be encoded \n",
    "        d_model (int): Encoding size \n",
    "    \n",
    "    Returns:\n",
    "        pos_encoding (tf.Tensor): A matrix of shape (1, position, d_model) with the positional encodings\n",
    "    \"\"\"\n",
    "    \n",
    "    position = np.arange(positions)[:, np.newaxis]\n",
    "    k = np.arange(d_model)[np.newaxis, :]\n",
    "    i = k // 2\n",
    "    \n",
    "    # initialize a matrix angle_rads of all the angles \n",
    "    angle_rates = 1 / np.power(10000, (2 * i) / np.float32(d_model))\n",
    "    angle_rads = position * angle_rates\n",
    "  \n",
    "    # apply sin to even indices in the array; 2i\n",
    "    angle_rads[:, 0::2] = np.sin(angle_rads[:, 0::2])\n",
    "  \n",
    "    # apply cos to odd indices in the array; 2i+1\n",
    "    angle_rads[:, 1::2] = np.cos(angle_rads[:, 1::2])\n",
    "    \n",
    "    pos_encoding = angle_rads[np.newaxis, ...]\n",
    "    \n",
    "    return tf.cast(pos_encoding, dtype=tf.float32)"
   ]
  },
  {
   "cell_type": "markdown",
   "id": "9e1f1063",
   "metadata": {},
   "source": [
    "<a name='4'></a>\n",
    "##4 - Đắp mặt nạ\n",
    "\n",
    "Có hai loại mặt nạ hữu ích khi xây dựng mạng Transformer của bạn: *mặt nạ đệm* và *mặt nạ nhìn về phía trước*. Cả hai đều giúp tính toán softmax đưa ra trọng số thích hợp cho các từ trong câu đầu vào của bạn.\n",
    "\n",
    "Bạn đã học cách triển khai và sử dụng chúng ở một trong các phòng thí nghiệm của tuần này. Ở đây chúng được thực hiện cho bạn."
   ]
  },
  {
   "cell_type": "code",
   "execution_count": 8,
   "id": "cfc7471c",
   "metadata": {
    "deletable": false,
    "editable": false,
    "tags": [
     "graded"
    ]
   },
   "outputs": [],
   "source": [
    "def create_padding_mask(decoder_token_ids):\n",
    "    \"\"\"\n",
    "    Creates a matrix mask for the padding cells\n",
    "    \n",
    "    Arguments:\n",
    "        decoder_token_ids (matrix like): matrix of size (n, m)\n",
    "    \n",
    "    Returns:\n",
    "        mask (tf.Tensor): binary tensor of size (n, 1, m)\n",
    "    \"\"\"    \n",
    "    seq = 1 - tf.cast(tf.math.equal(decoder_token_ids, 0), tf.float32)\n",
    "  \n",
    "    # add extra dimensions to add the padding to the attention logits. \n",
    "    # this will allow for broadcasting later when comparing sequences\n",
    "    return seq[:, tf.newaxis, :] \n",
    "\n",
    "\n",
    "def create_look_ahead_mask(sequence_length):\n",
    "    \"\"\"\n",
    "    Returns a lower triangular matrix filled with ones\n",
    "    \n",
    "    Arguments:\n",
    "        sequence_length (int): matrix size\n",
    "    \n",
    "    Returns:\n",
    "        mask (tf.Tensor): binary tensor of size (sequence_length, sequence_length)\n",
    "    \"\"\"\n",
    "    mask = tf.linalg.band_part(tf.ones((1, sequence_length, sequence_length)), -1, 0)\n",
    "    return mask "
   ]
  },
  {
   "cell_type": "markdown",
   "id": "89110af6",
   "metadata": {},
   "source": [
    "<a name='5'></a>\n",
    "##5 - Tự Chú Ý\n",
    "\n",
    "Như tác giả của bài báo về Transformers đã tuyên bố, \"Tất cả những gì bạn cần là sự chú ý\".\n",
    "\n",
    "<img src=\"images/self-attention.png\" alt=\"Encoder\" width=\"600\"/>\n",
    "<caption><center><font color='purple'><b>Hình 1: Trực quan hóa phép tính Tự chú ý</font></center></caption>\n",
    "\n",
    "Việc sử dụng tính năng tự chú ý kết hợp với mạng tích chập truyền thống cho phép thực hiện song song giúp tăng tốc quá trình đào tạo. Bạn sẽ triển khai **chú ý đến sản phẩm chấm theo tỷ lệ** lấy truy vấn, khóa, giá trị và mặt nạ làm đầu vào để trả về các biểu diễn vectơ phong phú, dựa trên sự chú ý của các từ trong chuỗi của bạn. Kiểu tự chú ý này có thể được biểu diễn bằng toán học như sau:\n",
    "$$\n",
    "\\text { Chú ý }(Q, K, V)=\\operatorname{softmax}\\left(\\frac{Q K^{T}}{\\sqrt{d_{k}}}+{M}\\right) V\\tag {4}\\\n",
    "$$\n",
    "\n",
    "* $Q$ là ma trận truy vấn\n",
    "* $K$ là ma trận các khóa\n",
    "* $V$ là ma trận các giá trị\n",
    "* $M$ là mặt nạ tùy chọn bạn chọn để áp dụng\n",
    "* ${d_k}$ là kích thước của các phím, được sử dụng để thu nhỏ mọi thứ để softmax không bị nổ\n",
    "\n",
    "<a name='ex-1'></a>\n",
    "### Bài tập 1 -scaled_dot_product_attention\n",
    "\n",
    "Triển khai hàm `scaled_dot_product_attention()` để tạo các biểu diễn dựa trên sự chú ý.\n",
    "\n",
    "**Lời nhắc**: Tham số mặt nạ boolean có thể được chuyển vào dưới dạng `none` hoặc dưới dạng đệm hoặc nhìn về phía trước.\n",
    "\n",
    "* Nhân (1. - mặt nạ) với -1e9 trước khi thêm nó vào nhật ký chú ý được chia tỷ lệ.\n",
    "\n",
    "**Gợi ý bổ sung**\n",
    "* Bạn có thể thấy [tf.matmul](https://www.tensorflow.org/api_docs/python/tf/linalg/matmul) hữu ích cho phép nhân ma trận (kiểm tra cách bạn có thể sử dụng tham số transpose_b).\n",
    "* Bạn có thể sử dụng [tf.keras.activations.softmax](https://www.tensorflow.org/api_docs/python/tf/keras/activations/softmax) cho softmax."
   ]
  },
  {
   "cell_type": "code",
   "execution_count": 17,
   "id": "3f434073",
   "metadata": {
    "deletable": false,
    "tags": [
     "graded"
    ]
   },
   "outputs": [],
   "source": [
    "# GRADED FUNCTION: scaled_dot_product_attention\n",
    "def scaled_dot_product_attention(q, k, v, mask):\n",
    "    \"\"\"\n",
    "    Calculate the attention weights.\n",
    "      q, k, v must have matching leading dimensions.\n",
    "      k, v must have matching penultimate dimension, i.e.: seq_len_k = seq_len_v.\n",
    "      The mask has different shapes depending on its type(padding or look ahead) \n",
    "      but it must be broadcastable for addition.\n",
    "\n",
    "    Arguments:\n",
    "        q (tf.Tensor): query of shape (..., seq_len_q, depth)\n",
    "        k (tf.Tensor): key of shape (..., seq_len_k, depth)\n",
    "        v (tf.Tensor): value of shape (..., seq_len_v, depth_v)\n",
    "        mask (tf.Tensor): mask with shape broadcastable \n",
    "              to (..., seq_len_q, seq_len_k). Defaults to None.\n",
    "\n",
    "    Returns:\n",
    "        output -- attention_weights\n",
    "    \"\"\"\n",
    "    ### START CODE HERE ###\n",
    "    \n",
    "    # Multiply q and k transposed.\n",
    "    matmul_qk = tf.matmul(q, k, transpose_b=True)\n",
    "\n",
    "    # scale matmul_qk with the square root of dk\n",
    "    dk = tf.cast(tf.shape(k)[-1], tf.float32)\n",
    "    scaled_attention_logits = matmul_qk / tf.math.sqrt(dk)\n",
    "\n",
    "    # add the mask to the scaled tensor.\n",
    "    if mask is not None:  # Don't replace this None\n",
    "        scaled_attention_logits += (1 - mask) * -1e9\n",
    "\n",
    "    # softmax is normalized on the last axis (seq_len_k) so that the scores add up to 1.\n",
    "    attention_weights = tf.nn.softmax(scaled_attention_logits, axis=-1)\n",
    "\n",
    "    # Multiply the attention weights by v\n",
    "    output = tf.matmul(attention_weights, v)\n",
    "    \n",
    "    ### END CODE HERE ###\n",
    "\n",
    "    return output, attention_weights"
   ]
  },
  {
   "cell_type": "code",
   "execution_count": 18,
   "id": "5ed8f5af",
   "metadata": {
    "deletable": false,
    "editable": false
   },
   "outputs": [
    {
     "name": "stdout",
     "output_type": "stream",
     "text": [
      "Output:\n",
      " [[[1.   0.62]\n",
      "  [0.62 0.62]\n",
      "  [0.74 0.31]]]\n",
      "\n",
      "Attention weigths:\n",
      " [[[0.   0.38 0.   0.23 0.38]\n",
      "  [0.38 0.   0.   0.23 0.38]\n",
      "  [0.26 0.43 0.   0.16 0.16]]]\n"
     ]
    }
   ],
   "source": [
    "# Test your function!\n",
    "q = np.array([[1, 1, 0, 1], [0, 1, 1, 1], [1, 0, 1, 1]]).astype(np.float32)\n",
    "k = np.array([[1, 1, 0, 1], [1, 0, 1, 1 ], [1, 1, 1, 0], [0, 0, 0, 1], [0, 1, 0, 1]]).astype(np.float32)\n",
    "v = np.array([[0, 0], [1, 0], [1, 0], [1, 1], [1, 1]]).astype(np.float32)\n",
    "mask = np.array([[[0, 1, 0, 1, 1], [1, 0, 0, 1, 1], [1, 1, 0, 1, 1]]])\n",
    "\n",
    "ou, atw = scaled_dot_product_attention(q, k, v, mask)\n",
    "ou = np.around(ou, decimals=2)\n",
    "atw = np.around(atw, decimals=2)\n",
    "\n",
    "print(f\"Output:\\n {ou}\")\n",
    "print(f\"\\nAttention weigths:\\n {atw}\")"
   ]
  },
  {
   "cell_type": "markdown",
   "id": "7b970a6e",
   "metadata": {},
   "source": [
    "##### __Kết quả mong đợi__\n",
    "\n",
    "```\n",
    "Output:\n",
    " [[[1.   0.62]\n",
    "  [0.62 0.62]\n",
    "  [0.74 0.31]]]\n",
    "\n",
    "Attention weigths:\n",
    " [[[0.   0.38 0.   0.23 0.38]\n",
    "  [0.38 0.   0.   0.23 0.38]\n",
    "  [0.26 0.43 0.   0.16 0.16]]]\n",
    "```"
   ]
  },
  {
   "cell_type": "code",
   "execution_count": 19,
   "id": "4755bb0b",
   "metadata": {
    "deletable": false,
    "editable": false,
    "tags": []
   },
   "outputs": [
    {
     "name": "stdout",
     "output_type": "stream",
     "text": [
      "\u001b[92m All tests passed!\n"
     ]
    }
   ],
   "source": [
    "# UNIT TEST\n",
    "w2_unittest.test_scaled_dot_product_attention(scaled_dot_product_attention)"
   ]
  },
  {
   "cell_type": "markdown",
   "id": "8dcbd521",
   "metadata": {},
   "source": [
    "Công việc tuyệt vời! Bây giờ bạn có thể thực hiện việc tự chú ý. Với điều đó, bạn có thể bắt đầu xây dựng khối mã hóa!"
   ]
  },
  {
   "cell_type": "markdown",
   "id": "00b9c92a",
   "metadata": {},
   "source": [
    "<a name='6'></a>\n",
    "## 6 - Bộ mã hóa\n",
    "\n",
    "Lớp Bộ mã hóa biến áp kết hợp kiểu xử lý mạng thần kinh tích chập và tự chú ý để cải thiện tốc độ huấn luyện và chuyển ma trận K và V cho Bộ giải mã mà bạn sẽ xây dựng sau trong bài tập. Trong phần bài tập này, bạn sẽ triển khai Bộ mã hóa bằng cách ghép nối sự chú ý nhiều đầu và mạng nơ-ron chuyển tiếp nguồn cấp dữ liệu (Hình 2a).\n",
    "<img src=\"images/encoder_layer.png\" alt=\"Encoder\" width=\"400\"/>\n",
    "<caption><center><font color='purple'><b>Hình 2a: Lớp mã hóa máy biến áp</font></center></caption>\n",
    "\n",
    "* `MultiHeadAttention` bạn có thể coi là tính toán tự chú ý nhiều lần để phát hiện các tính năng khác nhau.\n",
    "* Mạng nơ-ron chuyển tiếp nguồn cấp dữ liệu chứa hai lớp dày đặc mà chúng tôi sẽ triển khai dưới dạng chức năng `FullyConnected`\n",
    "\n",
    "Trước tiên, câu đầu vào của bạn sẽ đi qua *lớp chú ý nhiều đầu*, trong đó bộ mã hóa xem xét các từ khác trong câu đầu vào khi mã hóa một từ cụ thể. Sau đó, đầu ra của lớp chú ý nhiều đầu được đưa đến *mạng thần kinh chuyển tiếp nguồn cấp dữ liệu*. Mạng chuyển tiếp nguồn cấp dữ liệu giống hệt nhau được áp dụng độc lập cho từng vị trí.\n",
    "\n",
    "* Đối với lớp `MultiHeadAttention`, bạn sẽ sử dụng [MultiHeadAttention](https://www.tensorflow.org/api_docs/python/tf/keras/layers/MultiHeadAttention) được triển khai trong Keras. Nếu bạn tò mò về cách chia ma trận truy vấn Q, ma trận khóa K và ma trận giá trị V thành các phần đầu khác nhau, bạn có thể xem qua phần triển khai.\n",
    "* Bạn cũng sẽ sử dụng [Sequential API](https://www.tensorflow.org/api_docs/python/tf/keras/Sequential) với hai lớp dày đặc để xây dựng các lớp mạng thần kinh chuyển tiếp nguồn cấp dữ liệu."
   ]
  },
  {
   "cell_type": "code",
   "execution_count": 20,
   "id": "c3fd59d0",
   "metadata": {
    "deletable": false,
    "editable": false,
    "tags": [
     "graded"
    ]
   },
   "outputs": [],
   "source": [
    "def FullyConnected(embedding_dim, fully_connected_dim):\n",
    "    \"\"\"\n",
    "    Returns a sequential model consisting of two dense layers. The first dense layer has\n",
    "    fully_connected_dim neurons and is activated by relu. The second dense layer has\n",
    "    embedding_dim and no activation.\n",
    "\n",
    "    Arguments:\n",
    "        embedding_dim (int): output dimension\n",
    "        fully_connected_dim (int): dimension of the hidden layer\n",
    "\n",
    "    Returns:\n",
    "        _ (tf.keras.Model): sequential model\n",
    "    \"\"\"\n",
    "    return tf.keras.Sequential([\n",
    "        tf.keras.layers.Dense(fully_connected_dim, activation='relu'),  # (batch_size, seq_len, d_model)\n",
    "        tf.keras.layers.Dense(embedding_dim)  # (batch_size, seq_len, d_model)\n",
    "    ])"
   ]
  },
  {
   "cell_type": "markdown",
   "id": "99d7003a",
   "metadata": {},
   "source": [
    "<a name='6-1'></a>\n",
    "### 6.1 Lớp mã hóa\n",
    "\n",
    "Giờ đây, bạn có thể ghép nối sự chú ý của nhiều đầu và chuyển tiếp mạng nơ-ron với nhau trong một lớp mã hóa! Bạn cũng sẽ sử dụng các kết nối còn lại và chuẩn hóa lớp để giúp tăng tốc độ đào tạo (Hình 2a).\n",
    "\n",
    "Khối bộ mã hóa (Hình 2) đã được triển khai cho bạn. Hãy xem xét kỹ cách triển khai nó, vì sau này bạn sẽ phải tự tạo bộ giải mã và rất nhiều mã rất giống nhau. Khối mã hóa thực hiện các bước sau:\n",
    "1. Nó đưa các ma trận Q, V, K và mặt nạ boolean vào lớp chú ý nhiều đầu. Hãy nhớ rằng để tính toán *tự*-chú ý Q, V và K đều giống nhau. Bạn cũng sẽ thực hiện Dropout trong lớp chú ý nhiều đầu này trong quá trình đào tạo.\n",
    "2. Có một kết nối bỏ qua để thêm đầu vào `x` ban đầu của bạn và đầu ra của lớp chú ý nhiều đầu.\n",
    "3. Sau khi thêm kết nối bỏ qua, đầu ra sẽ đi qua lớp chuẩn hóa đầu tiên.\n",
    "4. Cuối cùng, các bước 1-3 được lặp lại nhưng với mạng nơ-ron chuyển tiếp nguồn cấp dữ liệu có lớp bỏ học thay vì lớp chú ý nhiều đầu.\n",
    "\n",
    "<chi tiết>\n",
    "<summary><font size=\"2\" color=\"darkgreen\"><b>Thông tin bổ sung (Nhấp để mở rộng)</b></font></summary>\n",
    "\n",
    "* Phương thức `__init__` tạo tất cả các lớp sẽ được truy cập bằng phương thức `call`. Bất cứ nơi nào bạn muốn sử dụng một lớp được xác định bên trong phương thức `__init__`, bạn sẽ phải sử dụng cú pháp `self.[insert layer name]`.\n",
    "* Bạn sẽ thấy tài liệu về [MultiHeadAttention](https://www.tensorflow.org/api_docs/python/tf/keras/layers/MultiHeadAttention) hữu ích. *Lưu ý rằng nếu truy vấn, khóa và giá trị giống nhau thì hàm này sẽ thực hiện tự chú ý.*\n",
    "* Các đối số lệnh gọi cho `self.mha` là (Trong đó B dành cho batch_size, T dành cho hình dạng chuỗi mục tiêu và S là out_shape):\n",
    "- `query`: Tensor truy vấn có hình dạng (B, T, dim).\n",
    "- `value`: Giá trị Tensor của hình dạng (B, S, dim).\n",
    "- `key`: Phím tùy chọn Tensor hình dạng (B, S, dim). Nếu không được cung cấp, sẽ sử dụng cùng một giá trị cho cả khóa và giá trị, đây là trường hợp phổ biến nhất.\n",
    "- `attention_mask`: một mặt nạ boolean có hình dạng (B, T, S), ngăn sự chú ý đến các vị trí nhất định. Mặt nạ boolean chỉ định thành phần truy vấn nào có thể tham gia vào thành phần chính nào, 1 biểu thị sự chú ý và 0 biểu thị không chú ý. Việc phát sóng có thể xảy ra đối với các kích thước lô bị thiếu và kích thước phần đầu.\n",
    "- `return_attention_scores`: Một boolean để cho biết liệu đầu ra có phải là đầu ra chú ý nếu Đúng hay (attention_output, chú ý_scores) nếu Sai. Mặc định là Sai.\n",
    "- `training`: Python boolean cho biết lớp sẽ hoạt động ở chế độ huấn luyện (thêm bỏ học) hay ở chế độ suy luận (không bỏ học). Mặc định là sử dụng chế độ đào tạo của lớp/mô hình cha hoặc Sai (suy luận) nếu không có lớp cha. Hãy xem [tf.keras.layers.Dropout](https://www.tensorflow.org/versions/r2.4/api_docs/python/tf/keras/layers/Dropout) để biết thêm chi tiết (Đọc thêm trong [tf.keras.layers.Dropout](https://www.tensorflow.org/versions/r2.4/api_docs/python/tf/keras/layers/Dropout))"
   ]
  },
  {
   "cell_type": "code",
   "execution_count": 22,
   "id": "51c1452b",
   "metadata": {
    "deletable": false,
    "editable": false,
    "tags": [
     "graded"
    ]
   },
   "outputs": [],
   "source": [
    "class EncoderLayer(tf.keras.layers.Layer):\n",
    "    \"\"\"\n",
    "    The encoder layer is composed by a multi-head self-attention mechanism,\n",
    "    followed by a simple, positionwise fully connected feed-forward network. \n",
    "    This architecture includes a residual connection around each of the two \n",
    "    sub-layers, followed by layer normalization.\n",
    "    \"\"\"\n",
    "    def __init__(self, embedding_dim, num_heads, fully_connected_dim,\n",
    "                 dropout_rate=0.1, layernorm_eps=1e-6):\n",
    "        \n",
    "        super(EncoderLayer, self).__init__()\n",
    "\n",
    "        self.mha = tf.keras.layers.MultiHeadAttention(\n",
    "            num_heads=num_heads,\n",
    "            key_dim=embedding_dim,\n",
    "            dropout=dropout_rate\n",
    "        )\n",
    "\n",
    "        self.ffn = FullyConnected(\n",
    "            embedding_dim=embedding_dim,\n",
    "            fully_connected_dim=fully_connected_dim\n",
    "        )\n",
    "\n",
    "        self.layernorm1 = tf.keras.layers.LayerNormalization(epsilon=layernorm_eps)\n",
    "        self.layernorm2 = tf.keras.layers.LayerNormalization(epsilon=layernorm_eps)\n",
    "\n",
    "        self.dropout_ffn = tf.keras.layers.Dropout(dropout_rate)\n",
    "    \n",
    "    def call(self, x, training, mask):\n",
    "        \"\"\"\n",
    "        Forward pass for the Encoder Layer\n",
    "        \n",
    "        Arguments:\n",
    "            x (tf.Tensor): Tensor of shape (batch_size, input_seq_len, fully_connected_dim)\n",
    "            training (bool): Boolean, set to true to activate\n",
    "                        the training mode for dropout layers\n",
    "            mask (tf.Tensor): Boolean mask to ensure that the padding is not \n",
    "                    treated as part of the input\n",
    "        Returns:\n",
    "            encoder_layer_out (tf.Tensor): Tensor of shape (batch_size, input_seq_len, embedding_dim)\n",
    "        \"\"\"\n",
    "        # calculate self-attention using mha(~1 line).\n",
    "        # Dropout is added by Keras automatically if the dropout parameter is non-zero during training\n",
    "        self_mha_output = self.mha(x, x, x, mask)  # Self attention (batch_size, input_seq_len, fully_connected_dim)\n",
    "        \n",
    "        # skip connection\n",
    "        # apply layer normalization on sum of the input and the attention output to get the  \n",
    "        # output of the multi-head attention layer\n",
    "        skip_x_attention = self.layernorm1(x + self_mha_output)  # (batch_size, input_seq_len, fully_connected_dim)\n",
    "\n",
    "        # pass the output of the multi-head attention layer through a ffn\n",
    "        ffn_output = self.ffn(skip_x_attention)  # (batch_size, input_seq_len, fully_connected_dim)\n",
    "        \n",
    "        # apply dropout layer to ffn output during training\n",
    "        # use `training=training`\n",
    "        ffn_output = self.dropout_ffn(ffn_output, training=training)\n",
    "        \n",
    "        # apply layer normalization on sum of the output from multi-head attention (skip connection) and ffn output\n",
    "        # to get the output of the encoder layer\n",
    "        encoder_layer_out = self.layernorm2(skip_x_attention + ffn_output)  # (batch_size, input_seq_len, embedding_dim)\n",
    "        \n",
    "        return encoder_layer_out\n",
    "    "
   ]
  },
  {
   "cell_type": "markdown",
   "id": "2e36f13b",
   "metadata": {},
   "source": [
    "<a name='6-2'></a>\n",
    "### 6.2 - Bộ mã hóa đầy đủ\n",
    "\n",
    "Bây giờ bạn đã sẵn sàng xây dựng Bộ mã hóa biến áp đầy đủ (Hình 2b), nơi bạn sẽ nhúng đầu vào của mình và thêm các mã hóa vị trí mà bạn đã tính toán. Sau đó, bạn sẽ cung cấp các phần nhúng được mã hóa của mình vào một chồng các lớp Bộ mã hóa.\n",
    "\n",
    "<img src=\"images/encoder.png\" alt=\"Encoder\" width=\"330\"/>\n",
    "<caption><center><font color='purple'><b>Hình 2b: Bộ mã hóa máy biến áp</font></center></caption>\n",
    "\n",
    "Lớp Bộ mã hóa được triển khai cho bạn. Nó thực hiện các bước sau:\n",
    "1. Truyền đầu vào qua lớp Nhúng.\n",
    "2. Chia tỷ lệ phần nhúng bằng cách nhân nó với căn bậc hai của kích thước phần nhúng.\n",
    "3. Thêm mã hóa vị trí: self.pos_encoding `[:, :seq_len, :]` vào phần nhúng.\n",
    "4. Truyền phần nhúng được mã hóa qua lớp bỏ học\n",
    "5. Truyền đầu ra của lớp bỏ học qua ngăn xếp các lớp mã hóa bằng vòng lặp for."
   ]
  },
  {
   "cell_type": "code",
   "execution_count": 23,
   "id": "d677d14e",
   "metadata": {
    "deletable": false,
    "editable": false,
    "tags": [
     "graded"
    ]
   },
   "outputs": [],
   "source": [
    "class Encoder(tf.keras.layers.Layer):\n",
    "    \"\"\"\n",
    "    The entire Encoder starts by passing the input to an embedding layer \n",
    "    and using positional encoding to then pass the output through a stack of\n",
    "    encoder Layers\n",
    "        \n",
    "    \"\"\"  \n",
    "    def __init__(self, num_layers, embedding_dim, num_heads, fully_connected_dim, input_vocab_size,\n",
    "               maximum_position_encoding, dropout_rate=0.1, layernorm_eps=1e-6):\n",
    "        super(Encoder, self).__init__()\n",
    "\n",
    "        self.embedding_dim = embedding_dim\n",
    "        self.num_layers = num_layers\n",
    "\n",
    "        self.embedding = tf.keras.layers.Embedding(input_vocab_size, self.embedding_dim)\n",
    "        self.pos_encoding = positional_encoding(maximum_position_encoding, \n",
    "                                                self.embedding_dim)\n",
    "\n",
    "\n",
    "        self.enc_layers = [EncoderLayer(embedding_dim=self.embedding_dim,\n",
    "                                        num_heads=num_heads,\n",
    "                                        fully_connected_dim=fully_connected_dim,\n",
    "                                        dropout_rate=dropout_rate,\n",
    "                                        layernorm_eps=layernorm_eps) \n",
    "                           for _ in range(self.num_layers)]\n",
    "\n",
    "        self.dropout = tf.keras.layers.Dropout(dropout_rate)\n",
    "        \n",
    "    def call(self, x, training, mask):\n",
    "        \"\"\"\n",
    "        Forward pass for the Encoder\n",
    "        \n",
    "        Arguments:\n",
    "            x (tf.Tensor): Tensor of shape (batch_size, seq_len, embedding_dim)\n",
    "            training (bool): Boolean, set to true to activate\n",
    "                        the training mode for dropout layers\n",
    "            mask (tf.Tensor): Boolean mask to ensure that the padding is not \n",
    "                    treated as part of the input\n",
    "\n",
    "        Returns:\n",
    "            x (tf.Tensor): Tensor of shape (batch_size, seq_len, embedding_dim)\n",
    "        \"\"\"\n",
    "        seq_len = tf.shape(x)[1]\n",
    "        \n",
    "        # Pass input through the Embedding layer\n",
    "        x = self.embedding(x)  # (batch_size, input_seq_len, embedding_dim)\n",
    "        # Scale embedding by multiplying it by the square root of the embedding dimension\n",
    "        x *= tf.math.sqrt(tf.cast(self.embedding_dim, tf.float32))\n",
    "        # Add the position encoding to embedding\n",
    "        x += self.pos_encoding[:, :seq_len, :]\n",
    "        # Pass the encoded embedding through a dropout layer\n",
    "        # use `training=training`\n",
    "        x = self.dropout(x, training=training)\n",
    "        # Pass the output through the stack of encoding layers \n",
    "        for i in range(self.num_layers):\n",
    "            x = self.enc_layers[i](x, training, mask)\n",
    "\n",
    "        return x  # (batch_size, input_seq_len, embedding_dim)"
   ]
  },
  {
   "cell_type": "markdown",
   "id": "9c7356fd",
   "metadata": {},
   "source": [
    "<a name='7'></a>\n",
    "##7 - Bộ giải mã\n",
    "\n",
    "Bây giờ là lúc triển khai bộ giải mã. Bạn đã thấy nó trong video và bạn có thể sử dụng một số trợ giúp bằng cách xem cách triển khai bộ mã hóa ở trên. Lớp Bộ giải mã lấy ma trận K và V do Bộ mã hóa tạo ra và tính toán lớp chú ý nhiều đầu thứ hai với ma trận Q từ đầu ra (Hình 3a).\n",
    "\n",
    "<img src=\"images/decoder_layer.png\" alt=\"Decoder\" width=\"250\"/>\n",
    "<caption><center><font color='purple'><b>Hình 3a: Lớp Transformer Decoding</font></center></caption>\n",
    "\n",
    "<a name='7-1'></a>\n",
    "### 7.1 - Lớp giải mã\n",
    "Một lần nữa, bạn sẽ ghép nối sự chú ý nhiều đầu với mạng nơ-ron chuyển tiếp nguồn cấp dữ liệu, nhưng lần này bạn sẽ triển khai hai lớp chú ý nhiều đầu. Bạn cũng sẽ sử dụng các kết nối còn lại và chuẩn hóa lớp để giúp tăng tốc độ đào tạo (Hình 3a).\n",
    "\n",
    "<a name='ex-2'></a>\n",
    "### Bài tập 2 - DecodeLayer\n",
    "\n",
    "Triển khai `DecodeLayer()` bằng phương thức `call()`\n",
    "\n",
    "1. Khối 1 là lớp chú ý nhiều đầu với kết nối còn lại và mặt nạ nhìn về phía trước. Giống như trong `EncodeLayer`, Dropout được xác định trong lớp chú ý nhiều đầu.\n",
    "2. Khối 2 sẽ tính đến đầu ra của Bộ mã hóa, do đó lớp chú ý nhiều đầu sẽ nhận K và V từ bộ mã hóa và Q từ Khối 1. Sau đó, bạn sẽ áp dụng lớp chuẩn hóa và kết nối dư, chỉ cần giống như bạn đã làm trước đây với `EncodeLayer`.\n",
    "3. Cuối cùng, Khối 3 là mạng nơ-ron chuyển tiếp nguồn cấp dữ liệu với các lớp loại bỏ và chuẩn hóa cũng như kết nối còn lại.\n",
    "\n",
    "**Gợi ý bổ sung:**\n",
    "* Hai khối đầu tiên khá giống với EncodingLayer ngoại trừ bạn sẽ trả về `attention_scores` khi tính toán self-attention"
   ]
  },
  {
   "cell_type": "code",
   "execution_count": 28,
   "id": "d8d3a38d",
   "metadata": {
    "deletable": false,
    "tags": [
     "graded"
    ]
   },
   "outputs": [],
   "source": [
    "import tensorflow as tf\n",
    "\n",
    "class DecoderLayer(tf.keras.layers.Layer):\n",
    "    def __init__(self, embedding_dim, num_heads, fully_connected_dim, dropout_rate=0.1, layernorm_eps=1e-6):\n",
    "        super(DecoderLayer, self).__init__()\n",
    "\n",
    "        self.mha1 = tf.keras.layers.MultiHeadAttention(\n",
    "            num_heads=num_heads,\n",
    "            key_dim=embedding_dim,\n",
    "            dropout=dropout_rate\n",
    "        )\n",
    "\n",
    "        self.mha2 = tf.keras.layers.MultiHeadAttention(\n",
    "            num_heads=num_heads,\n",
    "            key_dim=embedding_dim,\n",
    "            dropout=dropout_rate\n",
    "        )\n",
    "\n",
    "        self.ffn = tf.keras.Sequential([\n",
    "            tf.keras.layers.Dense(fully_connected_dim, activation='relu'),  # First dense layer\n",
    "            tf.keras.layers.Dense(embedding_dim)  # Second dense layer\n",
    "        ])\n",
    "\n",
    "        self.layernorm1 = tf.keras.layers.LayerNormalization(epsilon=layernorm_eps)\n",
    "        self.layernorm2 = tf.keras.layers.LayerNormalization(epsilon=layernorm_eps)\n",
    "        self.layernorm3 = tf.keras.layers.LayerNormalization(epsilon=layernorm_eps)\n",
    "\n",
    "        self.dropout_ffn = tf.keras.layers.Dropout(dropout_rate)\n",
    "    \n",
    "    def call(self, x, enc_output, training, look_ahead_mask, padding_mask):\n",
    "        # Block 1: Self-attention\n",
    "        attn1, attn_weights_block1 = self.mha1(x, x, x, attention_mask=look_ahead_mask, return_attention_scores=True, training=training)\n",
    "        out1 = self.layernorm1(x + attn1)  # Apply residual connection followed by layer normalization\n",
    "        \n",
    "        # Block 2: Attention over encoder output\n",
    "        attn2, attn_weights_block2 = self.mha2(out1, enc_output, enc_output, attention_mask=padding_mask, return_attention_scores=True, training=training)\n",
    "        out2 = self.layernorm2(out1 + attn2)  # Apply residual connection followed by layer normalization\n",
    "        \n",
    "        # Block 3: Fully connected feed-forward network\n",
    "        ffn_output = self.ffn(out2)  # Pass through feed forward network\n",
    "        ffn_output = self.dropout_ffn(ffn_output, training=training)  # Apply dropout\n",
    "        out3 = self.layernorm3(out2 + ffn_output)  # Apply residual connection followed by layer normalization\n",
    "\n",
    "        return out3, attn_weights_block1, attn_weights_block2\n"
   ]
  },
  {
   "cell_type": "code",
   "execution_count": 29,
   "id": "41686c8b",
   "metadata": {
    "deletable": false,
    "editable": false
   },
   "outputs": [
    {
     "name": "stdout",
     "output_type": "stream",
     "text": [
      "Using embedding_dim=12 and num_heads=16:\n",
      "\n",
      "q has shape:(1, 15, 12)\n",
      "Output of encoder has shape:(1, 7, 8)\n",
      "\n",
      "Output of decoder layer has shape:(1, 15, 12)\n",
      "Att Weights Block 1 has shape:(1, 16, 15, 15)\n",
      "Att Weights Block 2 has shape:(1, 16, 15, 7)\n"
     ]
    }
   ],
   "source": [
    "# Test your function!\n",
    "key_dim = 12\n",
    "n_heads = 16\n",
    "\n",
    "decoderLayer_test = DecoderLayer(embedding_dim=key_dim, num_heads=n_heads, fully_connected_dim=32)\n",
    "\n",
    "q = np.ones((1, 15, key_dim))\n",
    "encoder_test_output = tf.convert_to_tensor(np.random.rand(1, 7, 8))\n",
    "look_ahead_mask = create_look_ahead_mask(q.shape[1])\n",
    "\n",
    "out, attn_w_b1, attn_w_b2 = decoderLayer_test(q, encoder_test_output, False, look_ahead_mask, None)\n",
    "\n",
    "print(f\"Using embedding_dim={key_dim} and num_heads={n_heads}:\\n\")\n",
    "print(f\"q has shape:{q.shape}\")\n",
    "print(f\"Output of encoder has shape:{encoder_test_output.shape}\\n\")\n",
    "\n",
    "print(f\"Output of decoder layer has shape:{out.shape}\")\n",
    "print(f\"Att Weights Block 1 has shape:{attn_w_b1.shape}\")\n",
    "print(f\"Att Weights Block 2 has shape:{attn_w_b2.shape}\")"
   ]
  },
  {
   "cell_type": "markdown",
   "id": "af9b85a3",
   "metadata": {},
   "source": [
    "##### __Kết quả mong đợi__\n",
    "\n",
    "```\n",
    "Output:\n",
    "Using embedding_dim=12 and num_heads=16:\n",
    "\n",
    "q has shape:(1, 15, 12)\n",
    "Output of encoder has shape:(1, 7, 8)\n",
    "\n",
    "Output of decoder layer has shape:(1, 15, 12)\n",
    "Att Weights Block 1 has shape:(1, 16, 15, 15)\n",
    "Att Weights Block 2 has shape:(1, 16, 15, 7)\n",
    "```"
   ]
  },
  {
   "cell_type": "code",
   "execution_count": 30,
   "id": "932f7320",
   "metadata": {
    "deletable": false,
    "editable": false,
    "tags": []
   },
   "outputs": [
    {
     "name": "stdout",
     "output_type": "stream",
     "text": [
      "\u001b[92m All tests passed!\n"
     ]
    }
   ],
   "source": [
    "# UNIT TEST\n",
    "w2_unittest.test_decoderlayer(DecoderLayer, create_look_ahead_mask)"
   ]
  },
  {
   "cell_type": "markdown",
   "id": "66b82ccf",
   "metadata": {},
   "source": [
    "<a name='7-2'></a>\n",
    "### 7.2 - Bộ giải mã đầy đủ\n",
    "Bạn đã gần tới! Đã đến lúc sử dụng lớp Bộ giải mã của bạn để xây dựng Bộ giải mã Biến áp đầy đủ (Hình 3b). Bạn sẽ nhúng đầu ra của mình và thêm mã hóa vị trí. Sau đó, bạn sẽ cung cấp các phần nhúng được mã hóa của mình vào một chồng các lớp Bộ giải mã.\n",
    "\n",
    "\n",
    "<img src=\"images/decoder.png\" alt=\"Decoder\" width=\"300\"/>\n",
    "<caption><center><font color='purple'><b>Hình 3b: Bộ giải mã máy biến áp</font></center></caption>\n",
    "\n",
    "<a name='ex-3'></a>\n",
    "### Bài tập 3 – Bộ giải mã\n",
    "\n",
    "Triển khai `Bộ giải mã()` bằng cách sử dụng phương thức `call()` để nhúng đầu ra của bạn, thêm mã hóa vị trí và triển khai nhiều lớp bộ giải mã.\n",
    "\n",
    "Trong bài tập này, bạn sẽ khởi tạo Bộ giải mã của mình bằng lớp Nhúng, mã hóa vị trí và nhiều Lớp giải mã. Phương thức `call()` của bạn sẽ thực hiện các bước sau:\n",
    "1. Chuyển đầu ra đã tạo của bạn qua lớp Nhúng.\n",
    "2. Chia tỷ lệ nhúng của bạn bằng cách nhân nó với căn bậc hai của kích thước nhúng của bạn. Hãy nhớ truyền thứ nguyên nhúng vào kiểu dữ liệu `tf.float32` trước khi tính căn bậc hai.\n",
    "3. Thêm mã hóa vị trí: self.pos_encoding `[:, :seq_len, :]` vào phần nhúng của bạn.\n",
    "4. Truyền phần nhúng được mã hóa qua lớp bỏ học, nhớ sử dụng tham số `đào tạo` để đặt chế độ đào tạo mô hình.\n",
    "5. Truyền đầu ra của lớp bỏ học qua ngăn xếp các lớp Giải mã bằng vòng lặp for."
   ]
  },
  {
   "cell_type": "code",
   "execution_count": 31,
   "id": "57dde3be",
   "metadata": {
    "deletable": false,
    "tags": [
     "graded"
    ]
   },
   "outputs": [],
   "source": [
    "class Decoder(tf.keras.layers.Layer):\n",
    "    def __init__(self, num_layers, embedding_dim, num_heads, fully_connected_dim, target_vocab_size,\n",
    "                 maximum_position_encoding, dropout_rate=0.1, layernorm_eps=1e-6):\n",
    "        super(Decoder, self).__init__()\n",
    "\n",
    "        self.embedding_dim = embedding_dim\n",
    "        self.num_layers = num_layers\n",
    "\n",
    "        self.embedding = tf.keras.layers.Embedding(target_vocab_size, self.embedding_dim)\n",
    "        self.pos_encoding = positional_encoding(maximum_position_encoding, self.embedding_dim)\n",
    "\n",
    "        self.dec_layers = [DecoderLayer(embedding_dim=self.embedding_dim,\n",
    "                                        num_heads=num_heads,\n",
    "                                        fully_connected_dim=fully_connected_dim,\n",
    "                                        dropout_rate=dropout_rate,\n",
    "                                        layernorm_eps=layernorm_eps) \n",
    "                           for _ in range(self.num_layers)]\n",
    "        self.dropout = tf.keras.layers.Dropout(dropout_rate)\n",
    "    \n",
    "    def call(self, x, enc_output, training, look_ahead_mask, padding_mask):\n",
    "        seq_len = tf.shape(x)[1]\n",
    "        attention_weights = {}\n",
    "\n",
    "        # Create word embeddings\n",
    "        x = self.embedding(x)\n",
    "        \n",
    "        # Scale embeddings by multiplying by the square root of their dimension\n",
    "        x *= tf.math.sqrt(tf.cast(self.embedding_dim, tf.float32))\n",
    "        \n",
    "        # Add positional encodings to word embedding\n",
    "        x += self.pos_encoding[:, :seq_len, :]\n",
    "\n",
    "        # Apply a dropout layer to x\n",
    "        x = self.dropout(x, training=training)\n",
    "\n",
    "        # Use a for loop to pass x through a stack of decoder layers and update attention_weights\n",
    "        for i in range(self.num_layers):\n",
    "            x, block1, block2 = self.dec_layers[i](x, enc_output, training, look_ahead_mask, padding_mask)\n",
    "\n",
    "            attention_weights[f'decoder_layer{i+1}_block1_self_att'] = block1\n",
    "            attention_weights[f'decoder_layer{i+1}_block2_decenc_att'] = block2\n",
    "        \n",
    "        # x.shape == (batch_size, target_seq_len, fully_connected_dim)\n",
    "        return x, attention_weights"
   ]
  },
  {
   "cell_type": "code",
   "execution_count": 32,
   "id": "04e877fb",
   "metadata": {
    "deletable": false,
    "editable": false
   },
   "outputs": [
    {
     "name": "stdout",
     "output_type": "stream",
     "text": [
      "Using num_layers=5, embedding_dim=13 and num_heads=17:\n",
      "\n",
      "x has shape:(3, 4)\n",
      "Output of encoder has shape:(3, 7, 9)\n",
      "\n",
      "Output of decoder has shape:(3, 4, 13)\n",
      "\n",
      "Attention weights:\n",
      "decoder_layer1_block1_self_att has shape:(3, 17, 4, 4)\n",
      "decoder_layer1_block2_decenc_att has shape:(3, 17, 4, 7)\n",
      "decoder_layer2_block1_self_att has shape:(3, 17, 4, 4)\n",
      "decoder_layer2_block2_decenc_att has shape:(3, 17, 4, 7)\n",
      "decoder_layer3_block1_self_att has shape:(3, 17, 4, 4)\n",
      "decoder_layer3_block2_decenc_att has shape:(3, 17, 4, 7)\n",
      "decoder_layer4_block1_self_att has shape:(3, 17, 4, 4)\n",
      "decoder_layer4_block2_decenc_att has shape:(3, 17, 4, 7)\n",
      "decoder_layer5_block1_self_att has shape:(3, 17, 4, 4)\n",
      "decoder_layer5_block2_decenc_att has shape:(3, 17, 4, 7)\n"
     ]
    }
   ],
   "source": [
    "# Test your function!\n",
    "n_layers = 5\n",
    "emb_d = 13\n",
    "n_heads = 17\n",
    "fully_connected_dim = 16\n",
    "target_vocab_size = 300\n",
    "maximum_position_encoding = 6\n",
    "\n",
    "x = np.array([[3, 2, 1, 1], [2, 1, 1, 0], [2, 1, 1, 0]])\n",
    "\n",
    "encoder_test_output = tf.convert_to_tensor(np.random.rand(3, 7, 9))\n",
    "\n",
    "look_ahead_mask = create_look_ahead_mask(x.shape[1])\n",
    "\n",
    "decoder_test = Decoder(n_layers, emb_d, n_heads, fully_connected_dim, target_vocab_size,maximum_position_encoding)\n",
    "                   \n",
    "outd, att_weights = decoder_test(x, encoder_test_output, False, look_ahead_mask, None)\n",
    "\n",
    "print(f\"Using num_layers={n_layers}, embedding_dim={emb_d} and num_heads={n_heads}:\\n\")\n",
    "print(f\"x has shape:{x.shape}\")\n",
    "print(f\"Output of encoder has shape:{encoder_test_output.shape}\\n\")\n",
    "\n",
    "print(f\"Output of decoder has shape:{outd.shape}\\n\")\n",
    "print(\"Attention weights:\")\n",
    "for name, tensor in att_weights.items():\n",
    "    print(f\"{name} has shape:{tensor.shape}\")"
   ]
  },
  {
   "cell_type": "markdown",
   "id": "9aa2ff15",
   "metadata": {},
   "source": [
    "##### __Kết quả mong đợi__\n",
    "\n",
    "```\n",
    "Using num_layers=5, embedding_dim=13 and num_heads=17:\n",
    "\n",
    "x has shape:(3, 4)\n",
    "Output of encoder has shape:(3, 7, 9)\n",
    "\n",
    "Output of decoder has shape:(3, 4, 13)\n",
    "\n",
    "Attention weights:\n",
    "decoder_layer1_block1_self_att has shape:(3, 17, 4, 4)\n",
    "decoder_layer1_block2_decenc_att has shape:(3, 17, 4, 7)\n",
    "decoder_layer2_block1_self_att has shape:(3, 17, 4, 4)\n",
    "decoder_layer2_block2_decenc_att has shape:(3, 17, 4, 7)\n",
    "decoder_layer3_block1_self_att has shape:(3, 17, 4, 4)\n",
    "decoder_layer3_block2_decenc_att has shape:(3, 17, 4, 7)\n",
    "decoder_layer4_block1_self_att has shape:(3, 17, 4, 4)\n",
    "decoder_layer4_block2_decenc_att has shape:(3, 17, 4, 7)\n",
    "decoder_layer5_block1_self_att has shape:(3, 17, 4, 4)\n",
    "decoder_layer5_block2_decenc_att has shape:(3, 17, 4, 7)\n",
    "```"
   ]
  },
  {
   "cell_type": "code",
   "execution_count": 33,
   "id": "e92745de",
   "metadata": {
    "deletable": false,
    "editable": false,
    "tags": []
   },
   "outputs": [
    {
     "name": "stdout",
     "output_type": "stream",
     "text": [
      "\u001b[92m All tests passed!\n"
     ]
    }
   ],
   "source": [
    "# UNIT TEST\n",
    "w2_unittest.test_decoder(Decoder, create_look_ahead_mask, create_padding_mask)"
   ]
  },
  {
   "cell_type": "markdown",
   "id": "848ba4b5",
   "metadata": {},
   "source": [
    "<a name='8'></a>\n",
    "##8 - Máy biến áp\n",
    "\n",
    "Phù! Đây quả là một nhiệm vụ tuyệt vời! Chúc mừng! Bạn đã hoàn thành tất cả công việc khó khăn, bây giờ là lúc để tập hợp tất cả lại với nhau.\n",
    "\n",
    "<img src=\"images/transformer.png\" alt=\"Transformer\" width=\"550\"/>\n",
    "<caption><center><font color='purple'><b>Hình 4: Máy biến áp</font></center></caption>\n",
    "\n",
    "Luồng dữ liệu thông qua Kiến trúc Transformer như sau:\n",
    "* Đầu tiên, đầu vào của bạn đi qua Bộ mã hóa, đây chỉ là các lớp Bộ mã hóa lặp lại mà bạn đã triển khai:\n",
    "- nhúng và mã hóa vị trí đầu vào của bạn\n",
    "- sự chú ý nhiều đầu vào đầu vào của bạn\n",
    "- mạng lưới thần kinh chuyển tiếp để giúp phát hiện các tính năng\n",
    "* Sau đó, đầu ra được dự đoán sẽ đi qua Bộ giải mã, bao gồm các lớp giải mã mà bạn đã triển khai:\n",
    "- nhúng và mã hóa vị trí của đầu ra\n",
    "- sự chú ý của nhiều người vào đầu ra được tạo của bạn\n",
    "- chú ý nhiều đầu với Q từ lớp chú ý nhiều đầu đầu tiên và K và V từ Bộ mã hóa\n",
    "- mạng lưới thần kinh chuyển tiếp nguồn cấp dữ liệu để giúp phát hiện các tính năng\n",
    "* Cuối cùng, sau lớp Bộ giải mã thứ N, một lớp dày đặc và một softmax được áp dụng để tạo dự đoán cho đầu ra tiếp theo trong chuỗi của bạn.\n",
    "\n",
    "<a name='ex-4'></a>\n",
    "### Bài tập 4 – Máy biến áp\n",
    "\n",
    "Triển khai `Transformer()` bằng phương thức `call()`\n",
    "1. Chuyển đầu vào qua Bộ mã hóa với mặt nạ thích hợp.\n",
    "2. Truyền đầu ra bộ mã hóa và mục tiêu qua Bộ giải mã với mặt nạ thích hợp.\n",
    "3. Áp dụng phép biến đổi tuyến tính và softmax để có được dự đoán."
   ]
  },
  {
   "cell_type": "code",
   "execution_count": 40,
   "id": "c9e6cb07",
   "metadata": {
    "deletable": false,
    "tags": [
     "graded"
    ]
   },
   "outputs": [],
   "source": [
    "# GRADED FUNCTION: Transformer\n",
    "class Transformer(tf.keras.Model):\n",
    "    \"\"\"\n",
    "    Complete transformer with an Encoder and a Decoder\n",
    "    \"\"\"\n",
    "    def __init__(self, num_layers, embedding_dim, num_heads, fully_connected_dim, input_vocab_size, \n",
    "               target_vocab_size, max_positional_encoding_input,\n",
    "               max_positional_encoding_target, dropout_rate=0.1, layernorm_eps=1e-6):\n",
    "        super(Transformer, self).__init__()\n",
    "\n",
    "        self.encoder = Encoder(num_layers=num_layers,\n",
    "                               embedding_dim=embedding_dim,\n",
    "                               num_heads=num_heads,\n",
    "                               fully_connected_dim=fully_connected_dim,\n",
    "                               input_vocab_size=input_vocab_size,\n",
    "                               maximum_position_encoding=max_positional_encoding_input,\n",
    "                               dropout_rate=dropout_rate,\n",
    "                               layernorm_eps=layernorm_eps)\n",
    "\n",
    "        self.decoder = Decoder(num_layers=num_layers, \n",
    "                               embedding_dim=embedding_dim,\n",
    "                               num_heads=num_heads,\n",
    "                               fully_connected_dim=fully_connected_dim,\n",
    "                               target_vocab_size=target_vocab_size, \n",
    "                               maximum_position_encoding=max_positional_encoding_target,\n",
    "                               dropout_rate=dropout_rate,\n",
    "                               layernorm_eps=layernorm_eps)\n",
    "\n",
    "        self.final_layer = tf.keras.layers.Dense(target_vocab_size, activation='softmax')\n",
    "    \n",
    "    def call(self, input_sentence, output_sentence, training, enc_padding_mask, look_ahead_mask, dec_padding_mask):\n",
    "        \"\"\"\n",
    "        Forward pass for the entire Transformer\n",
    "        Arguments:\n",
    "            input_sentence (tf.Tensor): Tensor of shape (batch_size, input_seq_len, fully_connected_dim)\n",
    "                              An array of the indexes of the words in the input sentence\n",
    "            output_sentence (tf.Tensor): Tensor of shape (batch_size, target_seq_len, fully_connected_dim)\n",
    "                              An array of the indexes of the words in the output sentence\n",
    "            training (bool): Boolean, set to true to activate\n",
    "                        the training mode for dropout layers\n",
    "            enc_padding_mask (tf.Tensor): Boolean mask to ensure that the padding is not \n",
    "                    treated as part of the input\n",
    "            look_ahead_mask (tf.Tensor): Boolean mask for the target_input\n",
    "            dec_padding_mask (tf.Tensor): Boolean mask for the second multihead attention layer\n",
    "        Returns:\n",
    "            final_output (tf.Tensor): The final output of the model\n",
    "            attention_weights (dict[str: tf.Tensor]): Dictionary of tensors containing all the attention weights for the decoder\n",
    "                                each of shape Tensor of shape (batch_size, num_heads, target_seq_len, input_seq_len)\n",
    "        \n",
    "        \"\"\"\n",
    "        ### START CODE HERE ###\n",
    "        # call self.encoder with the appropriate arguments to get the encoder output\n",
    "        enc_output = self.encoder(input_sentence, training, enc_padding_mask)\n",
    "        \n",
    "        # call self.decoder with the appropriate arguments to get the decoder output\n",
    "        # dec_output.shape == (batch_size, tar_seq_len, fully_connected_dim)\n",
    "        dec_output, attention_weights = self.decoder(output_sentence, enc_output, training, look_ahead_mask, dec_padding_mask)\n",
    "        \n",
    "        # pass decoder output through a linear layer and softmax (~1 line)\n",
    "        final_output = self.final_layer(dec_output)\n",
    "        ### END CODE HERE ###\n",
    "\n",
    "        return final_output, attention_weights"
   ]
  },
  {
   "cell_type": "code",
   "execution_count": 41,
   "id": "3cd93c99",
   "metadata": {
    "deletable": false,
    "editable": false
   },
   "outputs": [
    {
     "name": "stdout",
     "output_type": "stream",
     "text": [
      "Using num_layers=3, target_vocab_size=350 and num_heads=17:\n",
      "\n",
      "sentence_a has shape:(1, 7)\n",
      "sentence_b has shape:(1, 7)\n",
      "\n",
      "Output of transformer (summary) has shape:(1, 7, 350)\n",
      "\n",
      "Attention weights:\n",
      "decoder_layer1_block1_self_att has shape:(1, 17, 7, 7)\n",
      "decoder_layer1_block2_decenc_att has shape:(1, 17, 7, 7)\n",
      "decoder_layer2_block1_self_att has shape:(1, 17, 7, 7)\n",
      "decoder_layer2_block2_decenc_att has shape:(1, 17, 7, 7)\n",
      "decoder_layer3_block1_self_att has shape:(1, 17, 7, 7)\n",
      "decoder_layer3_block2_decenc_att has shape:(1, 17, 7, 7)\n"
     ]
    }
   ],
   "source": [
    "# Test your function!\n",
    "n_layers = 3\n",
    "emb_d = 13\n",
    "n_heads = 17\n",
    "fully_connected_dim = 8\n",
    "input_vocab_size = 300\n",
    "target_vocab_size = 350\n",
    "max_positional_encoding_input = 12\n",
    "max_positional_encoding_target = 12\n",
    "\n",
    "transformer = Transformer(n_layers, \n",
    "    emb_d, \n",
    "    n_heads, \n",
    "    fully_connected_dim, \n",
    "    input_vocab_size, \n",
    "    target_vocab_size, \n",
    "    max_positional_encoding_input,\n",
    "    max_positional_encoding_target)\n",
    "\n",
    "# 0 is the padding value\n",
    "sentence_a = np.array([[2, 3, 1, 3, 0, 0, 0]])\n",
    "sentence_b = np.array([[1, 3, 4, 0, 0, 0, 0]])\n",
    "\n",
    "enc_padding_mask = create_padding_mask(sentence_a)\n",
    "dec_padding_mask = create_padding_mask(sentence_a)\n",
    "\n",
    "look_ahead_mask = create_look_ahead_mask(sentence_a.shape[1])\n",
    "\n",
    "test_summary, att_weights = transformer(\n",
    "    sentence_a,\n",
    "    sentence_b,\n",
    "    False,\n",
    "    enc_padding_mask,\n",
    "    look_ahead_mask,\n",
    "    dec_padding_mask\n",
    ")\n",
    "\n",
    "print(f\"Using num_layers={n_layers}, target_vocab_size={target_vocab_size} and num_heads={n_heads}:\\n\")\n",
    "print(f\"sentence_a has shape:{sentence_a.shape}\")\n",
    "print(f\"sentence_b has shape:{sentence_b.shape}\")\n",
    "\n",
    "print(f\"\\nOutput of transformer (summary) has shape:{test_summary.shape}\\n\")\n",
    "print(\"Attention weights:\")\n",
    "for name, tensor in att_weights.items():\n",
    "    print(f\"{name} has shape:{tensor.shape}\")"
   ]
  },
  {
   "cell_type": "markdown",
   "id": "95c9f812",
   "metadata": {},
   "source": [
    "##### __Kết quả mong đợi__\n",
    "\n",
    "```\n",
    "Using num_layers=3, target_vocab_size=350 and num_heads=17:\n",
    "\n",
    "sentence_a has shape:(1, 7)\n",
    "sentence_b has shape:(1, 7)\n",
    "\n",
    "Output of transformer (summary) has shape:(1, 7, 350)\n",
    "\n",
    "Attention weights:\n",
    "decoder_layer1_block1_self_att has shape:(1, 17, 7, 7)\n",
    "decoder_layer1_block2_decenc_att has shape:(1, 17, 7, 7)\n",
    "decoder_layer2_block1_self_att has shape:(1, 17, 7, 7)\n",
    "decoder_layer2_block2_decenc_att has shape:(1, 17, 7, 7)\n",
    "decoder_layer3_block1_self_att has shape:(1, 17, 7, 7)\n",
    "decoder_layer3_block2_decenc_att has shape:(1, 17, 7, 7)\n",
    "```"
   ]
  },
  {
   "cell_type": "code",
   "execution_count": 42,
   "id": "a2d035a5",
   "metadata": {
    "deletable": false,
    "editable": false,
    "tags": []
   },
   "outputs": [
    {
     "name": "stdout",
     "output_type": "stream",
     "text": [
      "\u001b[92m All tests passed!\n"
     ]
    }
   ],
   "source": [
    "# UNIT TEST\n",
    "w2_unittest.test_transformer(Transformer, create_look_ahead_mask, create_padding_mask)"
   ]
  },
  {
   "cell_type": "markdown",
   "id": "33e8a0c2",
   "metadata": {},
   "source": [
    "<a name='9'></a>\n",
    "##9 - Khởi tạo Model\n",
    "Bây giờ bạn đã xác định được mô hình, bạn có thể khởi tạo và huấn luyện nó. Đầu tiên bạn có thể khởi tạo mô hình với các thông số bên dưới. Lưu ý rằng nhìn chung những mô hình này lớn hơn nhiều và bạn đang sử dụng phiên bản nhỏ hơn để phù hợp với môi trường này và có thể huấn luyện nó chỉ trong vài phút.\n",
    "\n",
    "Mô hình cơ sở được mô tả trong bài viết gốc về Transformer đã sử dụng `num_layers=6`, `embedding_dim=512` và `full_connected_dim=2048`."
   ]
  },
  {
   "cell_type": "code",
   "execution_count": 43,
   "id": "a5f79f64",
   "metadata": {
    "deletable": false,
    "editable": false,
    "tags": [
     "graded"
    ]
   },
   "outputs": [],
   "source": [
    "# Define the model parameters\n",
    "num_layers = 2\n",
    "embedding_dim = 128\n",
    "fully_connected_dim = 128\n",
    "num_heads = 2\n",
    "positional_encoding_length = 256\n",
    "\n",
    "# Initialize the model\n",
    "transformer = Transformer(\n",
    "    num_layers, \n",
    "    embedding_dim, \n",
    "    num_heads, \n",
    "    fully_connected_dim,\n",
    "    vocab_size, \n",
    "    vocab_size, \n",
    "    positional_encoding_length, \n",
    "    positional_encoding_length,\n",
    ")"
   ]
  },
  {
   "cell_type": "markdown",
   "id": "71473c27",
   "metadata": {},
   "source": [
    "<a name='10'></a>\n",
    "##10 - Chuẩn bị đào tạo người mẫu\n",
    "\n",
    "Bài viết biến áp ban đầu sử dụng trình tối ưu hóa Adam với việc lập kế hoạch tốc độ học tập tùy chỉnh mà chúng tôi xác định trong ô bên dưới. Điều này đã được chứng minh bằng thực nghiệm để tạo ra sự hội tụ nhanh hơn."
   ]
  },
  {
   "cell_type": "code",
   "execution_count": 44,
   "id": "eb402089",
   "metadata": {
    "deletable": false,
    "editable": false,
    "tags": [
     "graded"
    ]
   },
   "outputs": [],
   "source": [
    "class CustomSchedule(tf.keras.optimizers.schedules.LearningRateSchedule):\n",
    "    def __init__(self, d_model, warmup_steps=4000):\n",
    "        super(CustomSchedule, self).__init__()\n",
    "        self.d_model = tf.cast(d_model, dtype=tf.float32)\n",
    "        self.warmup_steps = warmup_steps\n",
    "    \n",
    "    def __call__(self, step):\n",
    "        step = tf.cast(step, dtype=tf.float32)\n",
    "        arg1 = tf.math.rsqrt(step)\n",
    "        arg2 = step * (self.warmup_steps ** -1.5)\n",
    "\n",
    "        return tf.math.rsqrt(self.d_model) * tf.math.minimum(arg1, arg2)\n",
    "\n",
    "learning_rate = CustomSchedule(embedding_dim)\n",
    "\n",
    "optimizer = tf.keras.optimizers.Adam(0.0002, beta_1=0.9, beta_2=0.98, epsilon=1e-9)"
   ]
  },
  {
   "cell_type": "markdown",
   "id": "ad854ab6",
   "metadata": {},
   "source": [
    "Dưới đây bạn có thể vẽ biểu đồ về tốc độ học tập tùy chỉnh trông như thế nào."
   ]
  },
  {
   "cell_type": "code",
   "execution_count": 45,
   "id": "35a17a59",
   "metadata": {
    "deletable": false,
    "editable": false,
    "tags": [
     "graded"
    ]
   },
   "outputs": [
    {
     "data": {
      "text/plain": [
       "Text(0.5, 0, 'Train Step')"
      ]
     },
     "execution_count": 45,
     "metadata": {},
     "output_type": "execute_result"
    },
    {
     "data": {
      "image/png": "[encoded data removed]",
      "text/plain": [
       "<Figure size 640x480 with 1 Axes>"
      ]
     },
     "metadata": {},
     "output_type": "display_data"
    }
   ],
   "source": [
    "plt.plot(learning_rate(tf.range(40000, dtype=tf.float32)))\n",
    "plt.ylabel('Learning Rate')\n",
    "plt.xlabel('Train Step')"
   ]
  },
  {
   "cell_type": "markdown",
   "id": "4cfba386",
   "metadata": {},
   "source": [
    "Tiếp theo, bạn thiết lập phần lỗ. Vì các chuỗi mục tiêu được đệm nên điều quan trọng là phải áp dụng mặt nạ đệm khi tính toán tổn thất.\n",
    "\n",
    "Bạn sẽ sử dụng hàm mất entropy chéo phân loại thưa thớt (`tf.keras.losses.SparseCategoricalCrossentropy`) và đặt tham số `from_logits` thành Sai vì Transformer không xuất ra nhật ký thô vì lớp cuối cùng có kích hoạt softmax:"
   ]
  },
  {
   "cell_type": "code",
   "execution_count": 46,
   "id": "99fc8885",
   "metadata": {
    "deletable": false,
    "editable": false,
    "tags": [
     "graded"
    ]
   },
   "outputs": [],
   "source": [
    "loss_object = tf.keras.losses.SparseCategoricalCrossentropy(from_logits=False, reduction='none')\n",
    "\n",
    "def masked_loss(real, pred):\n",
    "    mask = tf.math.logical_not(tf.math.equal(real, 0))\n",
    "    loss_ = loss_object(real, pred)\n",
    "\n",
    "    mask = tf.cast(mask, dtype=loss_.dtype)\n",
    "    loss_ *= mask\n",
    "\n",
    "    return tf.reduce_sum(loss_)/tf.reduce_sum(mask)\n",
    "\n",
    "\n",
    "train_loss = tf.keras.metrics.Mean(name='train_loss')\n",
    "\n",
    "# Here you will store the losses, so you can later plot them\n",
    "losses = []"
   ]
  },
  {
   "cell_type": "markdown",
   "id": "33db3f0b",
   "metadata": {},
   "source": [
    "Bây giờ bạn có thể xác định chức năng đào tạo tùy chỉnh của mình. Nếu bạn không rành về tensorflow, bạn có thể hiểu hàm này như một giải pháp thay thế cho việc sử dụng `model.compile()` và `model.fit()`, nhưng có thêm tính linh hoạt."
   ]
  },
  {
   "cell_type": "code",
   "execution_count": 47,
   "id": "79092091",
   "metadata": {
    "deletable": false,
    "editable": false,
    "tags": [
     "graded"
    ]
   },
   "outputs": [],
   "source": [
    "@tf.function\n",
    "def train_step(model, inp, tar):\n",
    "    \"\"\"\n",
    "    One training step for the transformer\n",
    "    Arguments:\n",
    "        inp (tf.Tensor): Input data to summarize\n",
    "        tar (tf.Tensor): Target (summary)\n",
    "    Returns:\n",
    "        None\n",
    "    \"\"\"\n",
    "    tar_inp = tar[:, :-1]\n",
    "    tar_real = tar[:, 1:]\n",
    "\n",
    "    # Create masks\n",
    "    enc_padding_mask = create_padding_mask(inp)\n",
    "    look_ahead_mask = create_look_ahead_mask(tf.shape(tar_inp)[1])\n",
    "    dec_padding_mask = create_padding_mask(inp) # Notice that both encoder and decoder padding masks are equal\n",
    "\n",
    "    with tf.GradientTape() as tape:\n",
    "        predictions, _ = model(\n",
    "            inp,\n",
    "            tar_inp, \n",
    "            True, \n",
    "            enc_padding_mask, \n",
    "            look_ahead_mask, \n",
    "            dec_padding_mask\n",
    "        )\n",
    "        loss = masked_loss(tar_real, predictions)\n",
    "\n",
    "    gradients = tape.gradient(loss, transformer.trainable_variables)    \n",
    "    optimizer.apply_gradients(zip(gradients, transformer.trainable_variables))\n",
    "\n",
    "    train_loss(loss)"
   ]
  },
  {
   "cell_type": "markdown",
   "id": "1480d5fd",
   "metadata": {},
   "source": [
    "Bây giờ bạn đã sẵn sàng để đào tạo mô hình. Nhưng trước khi bắt đầu đào tạo, bạn cũng có thể xác định thêm một bộ hàm để thực hiện suy luận. Vì bạn đang sử dụng vòng lặp đào tạo tùy chỉnh nên bạn có thể làm bất cứ điều gì bạn muốn giữa các bước đào tạo. Và chẳng phải sẽ rất thú vị khi xem sau mỗi kỷ nguyên một số ví dụ về cách hoạt động của mô hình sao?"
   ]
  },
  {
   "cell_type": "markdown",
   "id": "79e05c54",
   "metadata": {},
   "source": [
    "<a name='11'></a>\n",
    "##11 - Tóm tắt\n",
    "\n",
    "Điều cuối cùng bạn sẽ thực hiện là suy luận. Với điều này, bạn sẽ có thể tạo ra các bản tóm tắt thực tế của các tài liệu. Bạn sẽ sử dụng một phương pháp đơn giản gọi là giải mã tham lam, có nghĩa là bạn sẽ dự đoán từng từ một và thêm nó vào đầu ra. Bạn sẽ bắt đầu với mã thông báo `[SOS]` và lặp lại suy luận từng từ cho đến khi mô hình trả về cho bạn mã thông báo `[EOS]` hoặc cho đến khi bạn đạt đến độ dài tối đa của câu (bạn cần thêm giới hạn này, nếu không thì mô hình được đào tạo kém có thể cung cấp cho bạn vô số câu mà không bao giờ tạo ra mã thông báo `[EOS]`.\n",
    "\n",
    "<a name='ex-5'></a>\n",
    "### Bài tập 5 - next_word\n",
    "Viết hàm trợ giúp dự đoán từ tiếp theo để bạn có thể dùng nó để viết cả câu. Gợi ý: điều này rất giống với những gì xảy ra trong train_step, nhưng bạn phải đặt quá trình huấn luyện mô hình thành Sai."
   ]
  },
  {
   "cell_type": "code",
   "execution_count": 48,
   "id": "175fae70",
   "metadata": {
    "deletable": false,
    "tags": [
     "graded"
    ]
   },
   "outputs": [],
   "source": [
    "# GRADED FUNCTION: next_word\n",
    "def next_word(model, encoder_input, output):\n",
    "    \"\"\"\n",
    "    Helper function for summarization that uses the model to predict just the next word.\n",
    "    Arguments:\n",
    "        encoder_input (tf.Tensor): Input data to summarize\n",
    "        output (tf.Tensor): (incomplete) target (summary)\n",
    "    Returns:\n",
    "        predicted_id (tf.Tensor): The id of the predicted word\n",
    "    \"\"\"\n",
    "    ### START CODE HERE ###\n",
    "    # Create a padding mask for the input (encoder)\n",
    "    enc_padding_mask = create_padding_mask(encoder_input)\n",
    "    # Create a look-ahead mask for the output\n",
    "    look_ahead_mask = create_look_ahead_mask(tf.shape(output)[1])\n",
    "    # Create a padding mask for the input (decoder)\n",
    "    dec_padding_mask = create_padding_mask(encoder_input)\n",
    "\n",
    "    # Run the prediction of the next word with the transformer model\n",
    "    predictions, attention_weights = model(\n",
    "        encoder_input,\n",
    "        output,\n",
    "        False,\n",
    "        enc_padding_mask,\n",
    "        look_ahead_mask,\n",
    "        dec_padding_mask\n",
    "    )\n",
    "    ### END CODE HERE ###\n",
    "\n",
    "    predictions = predictions[: ,-1:, :]\n",
    "    predicted_id = tf.cast(tf.argmax(predictions, axis=-1), tf.int32)\n",
    "    \n",
    "    return predicted_id"
   ]
  },
  {
   "cell_type": "markdown",
   "id": "29af50d0",
   "metadata": {},
   "source": [
    "Kiểm tra xem chức năng của bạn có hoạt động không."
   ]
  },
  {
   "cell_type": "code",
   "execution_count": 49,
   "id": "3e97ba77",
   "metadata": {
    "deletable": false,
    "editable": false,
    "tags": [
     "graded"
    ]
   },
   "outputs": [
    {
     "name": "stdout",
     "output_type": "stream",
     "text": [
      "Predicted token: [[14859]]\n",
      "Predicted word: masses\n"
     ]
    }
   ],
   "source": [
    "# Take a random sentence as an input\n",
    "input_document = tokenizer.texts_to_sequences([\"a random sentence\"])\n",
    "input_document = tf.keras.preprocessing.sequence.pad_sequences(input_document, maxlen=encoder_maxlen, padding='post', truncating='post')\n",
    "encoder_input = tf.expand_dims(input_document[0], 0)\n",
    "\n",
    "# Take the start of sentence token as the only token in the output to predict the next word\n",
    "output = tf.expand_dims([tokenizer.word_index[\"[SOS]\"]], 0)\n",
    "\n",
    "# predict the next word with your function\n",
    "predicted_token = next_word(transformer, encoder_input, output)\n",
    "print(f\"Predicted token: {predicted_token}\")\n",
    "\n",
    "predicted_word = tokenizer.sequences_to_texts(predicted_token.numpy())[0]\n",
    "print(f\"Predicted word: {predicted_word}\")"
   ]
  },
  {
   "cell_type": "markdown",
   "id": "7157031c",
   "metadata": {},
   "source": [
    "##### __Kết quả mong đợi__\n",
    "\n",
    "```\n",
    "Predicted token: [[14859]]\n",
    "Predicted word: masses\n",
    "```"
   ]
  },
  {
   "cell_type": "code",
   "execution_count": 50,
   "id": "6bd98959",
   "metadata": {
    "deletable": false,
    "editable": false,
    "tags": []
   },
   "outputs": [
    {
     "name": "stdout",
     "output_type": "stream",
     "text": [
      "\u001b[92m All tests passed!\n"
     ]
    }
   ],
   "source": [
    "# UNIT TEST\n",
    "w2_unittest.test_next_word(next_word, transformer, encoder_input, output)"
   ]
  },
  {
   "cell_type": "code",
   "execution_count": 51,
   "id": "6177dc6a",
   "metadata": {
    "deletable": false,
    "editable": false,
    "tags": [
     "graded"
    ]
   },
   "outputs": [],
   "source": [
    "def summarize(model, input_document):\n",
    "    \"\"\"\n",
    "    A function for summarization using the transformer model\n",
    "    Arguments:\n",
    "        input_document (tf.Tensor): Input data to summarize\n",
    "    Returns:\n",
    "        _ (str): The summary of the input_document\n",
    "    \"\"\"    \n",
    "    input_document = tokenizer.texts_to_sequences([input_document])\n",
    "    input_document = tf.keras.preprocessing.sequence.pad_sequences(input_document, maxlen=encoder_maxlen, padding='post', truncating='post')\n",
    "    encoder_input = tf.expand_dims(input_document[0], 0)\n",
    "    \n",
    "    output = tf.expand_dims([tokenizer.word_index[\"[SOS]\"]], 0)\n",
    "    \n",
    "    for i in range(decoder_maxlen):\n",
    "        predicted_id = next_word(model, encoder_input, output)\n",
    "        output = tf.concat([output, predicted_id], axis=-1)\n",
    "        \n",
    "        if predicted_id == tokenizer.word_index[\"[EOS]\"]:\n",
    "            break\n",
    "\n",
    "    return tokenizer.sequences_to_texts(output.numpy())[0]  # since there is just one translated document"
   ]
  },
  {
   "cell_type": "markdown",
   "id": "d3b15117",
   "metadata": {},
   "source": [
    "Bây giờ bạn đã có thể tóm tắt một câu! Nhưng hãy cẩn thận, vì mô hình chưa được đào tạo nên nó sẽ chỉ tạo ra những kết quả vô nghĩa."
   ]
  },
  {
   "cell_type": "code",
   "execution_count": 52,
   "id": "bae4d5f1",
   "metadata": {
    "deletable": false,
    "editable": false,
    "tags": [
     "graded"
    ]
   },
   "outputs": [
    {
     "name": "stdout",
     "output_type": "stream",
     "text": [
      "Training set example:\n",
      "[SOS] amanda: i baked  cookies. do you want some?  jerry: sure!  amanda: i'll bring you tomorrow :-) [EOS]\n",
      "\n",
      "Human written summary:\n",
      "[SOS] amanda baked cookies and will bring jerry some tomorrow. [EOS]\n",
      "\n",
      "Model written summary:\n"
     ]
    },
    {
     "data": {
      "text/plain": [
       "\"[SOS] masses kindergarten concept kindergarten concept bloomer wilingness sux sam kindergarten lisabeth kindergarten sawyer's sawyer's masses concept bloomer lisabeth bloomer wilingness 80000 bt hotsummer hoax hoax kieslowski wilingness 80000 dont't elis' 🐶❤️👍 cots saaaad evelynn inexperienced suji zubac forthcoming callum farmers extraordinary callum kindergarten worthy extraordinary readable 🐶❤️👍 thinkgn 🐶❤️👍 cots\""
      ]
     },
     "execution_count": 52,
     "metadata": {},
     "output_type": "execute_result"
    }
   ],
   "source": [
    "training_set_example = 0\n",
    "\n",
    "# Check a summary of a document from the training set\n",
    "print('Training set example:')\n",
    "print(document[training_set_example])\n",
    "print('\\nHuman written summary:')\n",
    "print(summary[training_set_example])\n",
    "print('\\nModel written summary:')\n",
    "summarize(transformer, document[training_set_example])"
   ]
  },
  {
   "cell_type": "markdown",
   "id": "90d6f836",
   "metadata": {},
   "source": [
    "<a name='12'></a>\n",
    "#12 - Huấn luyện người mẫu\n",
    "\n",
    "Bây giờ cuối cùng bạn có thể huấn luyện mô hình. Dưới đây là một vòng lặp sẽ huấn luyện mô hình của bạn trong 20 kỷ nguyên. lưu ý rằng sẽ mất khoảng 30 giây mỗi kỷ nguyên (ngoại trừ một số kỷ nguyên đầu tiên có thể mất vài phút mỗi kỷ nguyên).\n",
    "\n",
    "Lưu ý rằng sau mỗi giai đoạn, bạn thực hiện tóm tắt một trong các câu trong bộ kiểm tra và in nó ra để bạn có thể thấy mô hình của mình đang được cải thiện như thế nào."
   ]
  },
  {
   "cell_type": "code",
   "execution_count": null,
   "id": "ebe2bf5f",
   "metadata": {
    "deletable": false,
    "editable": false,
    "scrolled": true,
    "tags": []
   },
   "outputs": [],
   "source": [
    "# Take an example from the test set, to monitor it during training\n",
    "test_example = 0\n",
    "true_summary = summary_test[test_example]\n",
    "true_document = document_test[test_example]\n",
    "\n",
    "# Define the number of epochs\n",
    "epochs = 20\n",
    "\n",
    "# Training loop\n",
    "for epoch in range(epochs):\n",
    "    \n",
    "    start = time.time()\n",
    "    train_loss.reset_states()\n",
    "    number_of_batches=len(list(enumerate(dataset)))\n",
    "\n",
    "    for (batch, (inp, tar)) in enumerate(dataset):\n",
    "        print(f'Epoch {epoch+1}, Batch {batch+1}/{number_of_batches}', end='\\r')\n",
    "        train_step(transformer, inp, tar)\n",
    "    \n",
    "    print (f'Epoch {epoch+1}, Loss {train_loss.result():.4f}')\n",
    "    losses.append(train_loss.result())\n",
    "    \n",
    "    print (f'Time taken for one epoch: {time.time() - start} sec')\n",
    "    print('Example summarization on the test set:')\n",
    "    print('  True summarization:')\n",
    "    print(f'    {true_summary}')\n",
    "    print('  Predicted summarization:')\n",
    "    print(f'    {summarize(transformer, true_document)}\\n')"
   ]
  },
  {
   "cell_type": "markdown",
   "id": "35687ddc",
   "metadata": {},
   "source": [
    "Vẽ hàm mất mát."
   ]
  },
  {
   "cell_type": "code",
   "execution_count": null,
   "id": "eb3d5335",
   "metadata": {
    "deletable": false,
    "editable": false,
    "tags": [
     "graded"
    ]
   },
   "outputs": [],
   "source": [
    "plt.plot(losses)\n",
    "plt.ylabel('Loss')\n",
    "plt.xlabel('Epoch')"
   ]
  },
  {
   "cell_type": "markdown",
   "id": "b6a53f16",
   "metadata": {},
   "source": [
    "<a name='13'></a>\n",
    "#13 – Tóm tắt một số câu!\n",
    "\n",
    "Dưới đây bạn có thể xem ví dụ về tóm tắt một câu từ tập huấn luyện và một câu từ tập kiểm tra. Hãy xem bạn có nhận thấy điều gì thú vị ở họ không nhé!"
   ]
  },
  {
   "cell_type": "code",
   "execution_count": null,
   "id": "2493b755",
   "metadata": {
    "deletable": false,
    "editable": false,
    "tags": [
     "graded"
    ]
   },
   "outputs": [],
   "source": [
    "training_set_example = 0\n",
    "\n",
    "# Check a summary of a document from the training set\n",
    "print('Training set example:')\n",
    "print(document[training_set_example])\n",
    "print('\\nHuman written summary:')\n",
    "print(summary[training_set_example])\n",
    "print('\\nModel written summary:')\n",
    "print(summarize(transformer, document[training_set_example]))"
   ]
  },
  {
   "cell_type": "code",
   "execution_count": null,
   "id": "15baaa47",
   "metadata": {
    "deletable": false,
    "editable": false,
    "tags": [
     "graded"
    ]
   },
   "outputs": [],
   "source": [
    "test_set_example = 3\n",
    "\n",
    "# Check a summary of a document from the test set\n",
    "print('Test set example:')\n",
    "print(document_test[test_set_example])\n",
    "print('\\nHuman written summary:')\n",
    "print(summary_test[test_set_example])\n",
    "print('\\nModel written summary:')\n",
    "print(summarize(transformer, document_test[test_set_example]))"
   ]
  },
  {
   "cell_type": "markdown",
   "id": "aebd7ef5",
   "metadata": {},
   "source": [
    "Nếu bạn xem xét kỹ lưỡng kết quả đầu ra của mô hình, bạn có thể nhận thấy một số điều:\n",
    "- Trong tập huấn luyện, đầu ra của mô hình (gần như) giống với đầu ra thực (đã có sau 20 kỷ nguyên và thậm chí còn hơn thế nữa với nhiều kỷ nguyên hơn). Điều này có thể là do tập huấn luyện tương đối nhỏ và mô hình tương đối lớn và do đó đã học thuộc lòng các câu trong tập huấn luyện (trang bị quá mức).\n",
    "- Mặc dù hiệu suất trên tập huấn luyện trông rất tuyệt vời nhưng lại không tốt lắm trên tập kiểm tra. Mô hình phù hợp nhưng không khái quát hóa được. Một lần nữa, một ứng cử viên dễ bị đổ lỗi là tập huấn luyện nhỏ và mô hình tương đối lớn, nhưng có thể có nhiều yếu tố khác.\n",
    "- Xem ví dụ tập kiểm tra 3 và phần tóm tắt của nó. Bạn có thể tóm tắt nó giống như cách nó được viết ở đây không? Đôi khi dữ liệu có thể mơ hồ. Và việc đào tạo **mô hình của bạn chỉ có thể tốt khi dữ liệu của bạn**.\n",
    "\n",
    "Ở đây bạn chỉ sử dụng một tập dữ liệu nhỏ để cho thấy rằng có thể học được điều gì đó trong một khoảng thời gian hợp lý trong một môi trường tương đối nhỏ. Nói chung, các máy biến áp lớn được đào tạo về nhiều nhiệm vụ và trên lượng dữ liệu rất lớn để đạt được hiệu suất vượt trội. Bạn sẽ tìm hiểu thêm về điều này trong phần còn lại của khóa học này."
   ]
  },
  {
   "cell_type": "markdown",
   "id": "41014aac",
   "metadata": {},
   "source": [
    "**Chúc mừng bạn đã hoàn thành bài tập tuần này!** Bạn đã làm được rất nhiều việc và bây giờ bạn nên hiểu rõ hơn về Máy biến áp và các khối xây dựng của chúng (bộ mã hóa và bộ giải mã) cũng như cách sử dụng chúng để tóm tắt văn bản. Và hãy nhớ: bạn không cần thay đổi nhiều để sử dụng cùng một mô hình cho người dịch, chỉ cần thay đổi tập dữ liệu và nó sẽ hoạt động!\n",
    "\n",
    "**Cố lên!**"
   ]
  }
 ],
 "metadata": {
  "grader_version": "1",
  "kernelspec": {
   "display_name": "Python 3 (ipykernel)",
   "language": "python",
   "name": "python3"
  },
  "language_info": {
   "codemirror_mode": {
    "name": "ipython",
    "version": 3
   },
   "file_extension": ".py",
   "mimetype": "text/x-python",
   "name": "python",
   "nbconvert_exporter": "python",
   "pygments_lexer": "ipython3",
   "version": "3.8.10"
  }
 },
 "nbformat": 4,
 "nbformat_minor": 5
}
